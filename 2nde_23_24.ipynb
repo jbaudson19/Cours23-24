{
 "cells": [
  {
   "cell_type": "markdown",
   "id": "bce843f4",
   "metadata": {},
   "source": [
    "# Chapitre 1 - Nombres entiers, nombres réels\n",
    "\n",
    "## 1.1. Nombres entiers\n",
    "\n",
    "## 1.2. Nombres réels\n",
    "\n",
    "## 1.3. Puissances\n",
    "\n",
    "## 1.4. Racines carrées\n",
    "\n",
    "# Chapitre 2 - Vecteurs\n",
    "\n",
    "## 2.1. Notions de vecteurs\n",
    "\n",
    "## 2.2. Opérations sur les vecteurs (somme de vecteurs, relation de Chasles, produit par un réel, vecteurs colinéaires) sans coordonnées\n",
    "\n",
    "# Chapitre 3 - Equation et Inéquation\n",
    "\n",
    "## 3.1. Développer à l'aide des identités remarquables\n",
    "\n",
    "## 3.2. Factoriser à l'aide des identités remarquables\n",
    "\n",
    "## 3.3. Equations\n",
    "\n",
    "## 3.4. Inéquations\n",
    "\n",
    "## 3.5. Intervalles sans intersection ni réunion\n",
    "\n",
    "# Chapitre 4 - Problèmes de géométrie\n",
    "\n",
    "## Trigonométrie (sinus, cosinus, tangente), projeté orthogonal, distance d'un point à une droite et tangente et rappel sur les droites remarquables : médiane, médiatrice et hauteur.\n",
    "\n",
    "# Chapitre 5 - Généralités sur les fonctions\n",
    "\n",
    "## Ensemble de définition, Calcul images et antécédents, représentation graphique, fonction paire et impaire, sens de variation (démonstration à connaître), maximum et minimum, résolution graphique d'équation et d'inéquation, utilisation de la calculatrice graphique NUMWORKS\n"
   ]
  },
  {
   "cell_type": "markdown",
   "id": "f5d7ad5e",
   "metadata": {},
   "source": [
    "<hr><hr><hr><hr><hr><hr><hr><hr><hr><hr><hr><hr><hr><hr><hr><hr>\n"
   ]
  },
  {
   "cell_type": "markdown",
   "id": "5f96f949",
   "metadata": {},
   "source": [
    "# Chapitre 3 - Equation et Inéquation\n",
    "\n",
    "## 3.1. Développer à l'aide des identités remarquables\n",
    "\n",
    "## 3.2. Factoriser à l'aide des identités remarquables\n",
    "\n",
    "## 3.3. Equations\n",
    "\n",
    "## 3.4. Inéquations\n",
    "\n",
    "## 3.5. Intervalles sans intersection ni réunion"
   ]
  },
  {
   "cell_type": "markdown",
   "id": "7cc33560",
   "metadata": {},
   "source": [
    "# Chapitre 4 - Problèmes de géométrie\n",
    "\n",
    "## Trigonométrie (sinus, cosinus, tangente), projeté orthogonal, distance d'un point à une droite et tangente et rappel sur les droites remarquables : médiane, médiatrice et hauteur."
   ]
  },
  {
   "cell_type": "markdown",
   "id": "191c0291",
   "metadata": {},
   "source": [
    "# Chapitre 5 - Généralités sur les fonctions\n",
    "\n",
    "## Ensemble de définition, Calcul images et antécédents, représentation graphique, fonction paire et impaire, sens de variation (démonstration à connaître), maximum et minimum, résolution graphique d'équation et d'inéquation, utilisation de la calculatrice graphique NUMWORKS"
   ]
  },
  {
   "cell_type": "code",
   "execution_count": null,
   "id": "167280e0",
   "metadata": {},
   "outputs": [],
   "source": []
  }
 ],
 "metadata": {
  "kernelspec": {
   "display_name": "Python 3 (ipykernel)",
   "language": "python",
   "name": "python3"
  },
  "language_info": {
   "codemirror_mode": {
    "name": "ipython",
    "version": 3
   },
   "file_extension": ".py",
   "mimetype": "text/x-python",
   "name": "python",
   "nbconvert_exporter": "python",
   "pygments_lexer": "ipython3",
   "version": "3.11.6"
  }
 },
 "nbformat": 4,
 "nbformat_minor": 5
}
