{
 "cells": [
  {
   "cell_type": "markdown",
   "id": "2b28cd34",
   "metadata": {},
   "source": [
    "# Sommaire"
   ]
  },
  {
   "cell_type": "markdown",
   "id": "31be7a36",
   "metadata": {},
   "source": [
    "# Chapitre 1 - Divisibilité et nombres premiers\n",
    "\n",
    "## 1. Nombres premiers inférieurs à 100\n",
    "\n",
    "## 2. Décomposition en produit de facteurs premiers\n",
    "\n",
    "## 3. Simplification de fractions\n",
    "\n",
    "# Chapitre 2 - Théoreme de Pythagore\n",
    "\n",
    "## 1. Racine carrée d'un nombre positif\n",
    "\n",
    "## 2. Théorème de Pythagore et réciproque\n",
    "\n",
    "## 3. Utilisations\n",
    "\n",
    "# Chapitre 3 - Nombre relatifs en écriture décimale\n",
    "\n",
    "## 1. Produit\n",
    "\n",
    "## 2. Quotient\n",
    "\n",
    "## 3. Enchaînement d'opérations\n",
    "\n",
    "# Chapitre 4 - Triangles égaux\n",
    "\n",
    "## 1. Définition\n",
    "\n",
    "## 2. Démontrer que deux triangles sont égaux\n",
    "\n",
    "# Chapitre 5 - Nombre relatifs en écriture fractionnaire\n",
    "\n",
    "## 1. Quotients\n",
    "\n",
    "## 2. Comparaison\n",
    "\n",
    "## 3. Addition et soustraction\n",
    "\n",
    "## 4. Multiplication\n",
    "\n",
    "## 5. Inverse d'un nombre relatif non nul\n",
    "\n",
    "## 6. Division\n",
    "\n",
    "# Chapitre 6 - Théorème de Thales\n",
    "\n",
    "## 1. Théorème de Thales (dans le cas des triangles emboités)\n",
    "\n",
    "## 2. Réciproque du théorème de Thales (dans le cas des triangle emboités)\n",
    "\n",
    "# Chapitre 7 - Calcul littéral\n",
    "\n",
    "## 1. Définitions\n",
    "\n",
    "## 2. Réduire une expression littérale\n",
    "\n",
    "## 3. Développer (simple et double distributivité)\n",
    "\n",
    "## 4. Factoriser"
   ]
  },
  {
   "cell_type": "markdown",
   "id": "639f6cc0",
   "metadata": {},
   "source": [
    "<hr><hr><hr><hr><hr><hr><hr><hr><hr><hr><hr><hr><hr><hr><hr><hr><hr><hr>\n",
    "\n",
    "# Lectures"
   ]
  },
  {
   "cell_type": "markdown",
   "id": "32cf166f",
   "metadata": {},
   "source": [
    "# Chapitre 3 - Nombre relatifs en écriture décimale\n",
    "\n",
    "## 0. Somme (Rappel)\n",
    "\n",
    "<p>\n",
    "    \n",
    "</p>\n",
    "    \n",
    "## 1. Produit\n",
    "\n",
    "### 3.1.0 Rappel de la définition d'une égalité\n",
    "\n",
    "<p>En mathématiques, l’égalité est une relation entre deux expressions signifiant que ces expressions sont identiques, c’est-à-dire que le remplacement de l’un par l’autre dans une expression ne change jamais la valeur de cette dernière.</p>\n",
    "\n",
    "### 3.1.1. Produit de deux nombres positifs\n",
    "\n",
    "##### a. <em>3 x 2 = 6</em>\n",
    "\n",
    "![title](images/droite_graduée_3x2.png)\n",
    "\n",
    "##### b. <em>2 x 3 = 6</em>\n",
    "\n",
    "![title](images/droite_graduée_2x3.png)\n",
    "\n",
    "### 3.1.2. Produit d'un nombre positif et d'un nombre négatif\n",
    "\n",
    "##### a. <em>2 x (-3) = -6</em>\n",
    "\n",
    "## 2. Quotient\n",
    "\n",
    "## 3. Enchaînement d'opérations"
   ]
  },
  {
   "cell_type": "markdown",
   "id": "f40ee5ae",
   "metadata": {},
   "source": [
    "# Chapitre 4 - Triangles égaux\n",
    "\n",
    "## 1. Définition\n",
    "\n",
    "## 2. Démontrer que deux triangles sont égaux\n"
   ]
  },
  {
   "cell_type": "markdown",
   "id": "e90e14ac",
   "metadata": {},
   "source": [
    "# Chapitre 5 - Nombre relatifs en écriture fractionnaire\n",
    "\n",
    "## 1. Quotients\n",
    "\n",
    "## 2. Comparaison\n",
    "\n",
    "## 3. Addition et soustraction\n",
    "\n",
    "## 4. Multiplication\n",
    "\n",
    "## 5. Inverse d'un nombre relatif non nul\n",
    "\n",
    "## 6. Division"
   ]
  },
  {
   "cell_type": "markdown",
   "id": "371c53df",
   "metadata": {},
   "source": [
    "# Chapitre 6 - Théorème de Thales\n",
    "\n",
    "## 1. Théorème de Thales (dans le cas des triangles emboités)\n",
    "\n",
    "## 2. Réciproque du théorème de Thales (dans le cas des triangle emboités)\n"
   ]
  },
  {
   "cell_type": "markdown",
   "id": "11bcbf14",
   "metadata": {},
   "source": [
    "# Chapitre 7 - Calcul littéral\n",
    "\n",
    "## 1. Définitions\n",
    "\n",
    "## 2. Réduire une expression littérale\n",
    "\n",
    "## 3. Développer (simple et double distributivité)\n",
    "\n",
    "## 4. Factoriser"
   ]
  },
  {
   "cell_type": "code",
   "execution_count": null,
   "id": "2277a7b8",
   "metadata": {},
   "outputs": [],
   "source": []
  }
 ],
 "metadata": {
  "kernelspec": {
   "display_name": "Python 3 (ipykernel)",
   "language": "python",
   "name": "python3"
  },
  "language_info": {
   "codemirror_mode": {
    "name": "ipython",
    "version": 3
   },
   "file_extension": ".py",
   "mimetype": "text/x-python",
   "name": "python",
   "nbconvert_exporter": "python",
   "pygments_lexer": "ipython3",
   "version": "3.11.6"
  }
 },
 "nbformat": 4,
 "nbformat_minor": 5
}
